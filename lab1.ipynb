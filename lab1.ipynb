{
 "cells": [
  {
   "cell_type": "code",
   "execution_count": 290,
   "outputs": [],
   "source": [
    "from PIL import Image\n",
    "import matplotlib.pyplot as plt\n",
    "import os\n",
    "import numpy as np\n",
    "import pandas as pd\n",
    "\n",
    "\n",
    "def load_object(path: str):\n",
    "    try:\n",
    "        image = Image.open(path)\n",
    "        image = image.convert('L')\n",
    "        image.resize((28, 28))\n",
    "        return np.array(image).reshape(-1)\n",
    "    except Exception as e:\n",
    "        print(f\"load_object exception: {e}\")\n",
    "        return None\n",
    "\n",
    "\n",
    "def display_object(path: str):\n",
    "    print(path)\n",
    "    plt.imshow(Image.fromarray(load_object(path)).convert('RGB'))\n",
    "\n",
    "\n",
    "def display_first_objects(path: str):\n",
    "    for dirname in os.listdir(path):\n",
    "        dirpath = os.path.join(path, dirname)\n",
    "        if not os.path.isdir(dirpath):\n",
    "            continue\n",
    "\n",
    "        for filename in os.listdir(dirpath):\n",
    "            filepath = os.path.join(dirpath, filename)\n",
    "            display_object(filepath)\n",
    "            break\n",
    "\n",
    "        plt.axis(\"off\")\n",
    "        plt.show()"
   ],
   "metadata": {
    "collapsed": false
   }
  },
  {
   "cell_type": "code",
   "execution_count": null,
   "outputs": [],
   "source": [
    "display_first_objects('data/letters_small')"
   ],
   "metadata": {
    "collapsed": false
   }
  },
  {
   "cell_type": "code",
   "execution_count": 291,
   "outputs": [],
   "source": [
    "TARGET_LABELS = ['target']\n",
    "FEATURE_LABELS = ['path']\n",
    "PIXEL_FEATURE_LABELS = []\n",
    "\n",
    "\n",
    "def load_data(path: str):\n",
    "    rows = []\n",
    "    for dirname in os.listdir(path):\n",
    "        dirpath = os.path.join(path, dirname)\n",
    "        if not os.path.isdir(dirpath):\n",
    "            continue\n",
    "\n",
    "        objects = (\n",
    "            {'target': dirname, 'data': load_object(os.path.join(dirpath, file)), 'path': os.path.join(dirpath, file)}\n",
    "            for file in os.listdir(dirpath)\n",
    "            if os.path.isfile(os.path.join(dirpath, file)) and os.path.getsize(os.path.join(dirpath, file)) > 0\n",
    "        )\n",
    "        rows.extend(objects)\n",
    "\n",
    "    frame = pd.DataFrame(rows).dropna()\n",
    "    flattened_data = np.stack(frame['data'].values)\n",
    "    global PIXEL_FEATURE_LABELS\n",
    "    PIXEL_FEATURE_LABELS = [f'data_pixel_{i}' for i in range(flattened_data.shape[1])]\n",
    "    flattened_df = pd.DataFrame(flattened_data, columns=PIXEL_FEATURE_LABELS)\n",
    "    result = pd.concat([frame[TARGET_LABELS + FEATURE_LABELS], flattened_df], axis=1)\n",
    "    return result.dropna()"
   ],
   "metadata": {
    "collapsed": false
   }
  },
  {
   "cell_type": "code",
   "execution_count": 292,
   "outputs": [],
   "source": [
    "# Task 2\n",
    "df = load_data(\"data/letters_small\")"
   ],
   "metadata": {
    "collapsed": false
   }
  },
  {
   "cell_type": "code",
   "execution_count": 293,
   "outputs": [],
   "source": [
    "from sklearn.model_selection import train_test_split\n",
    "\n",
    "\n",
    "def split_data(data, train_size=0.6, val_size=0.2, test_size=0.2):\n",
    "    assert train_size + val_size + test_size == 1, \"The sum of train_size, val_size, and test_size must be 1\"\n",
    "\n",
    "    X_tv, X_test, y_tv, y_test = train_test_split(data[FEATURE_LABELS + PIXEL_FEATURE_LABELS], data[TARGET_LABELS], test_size=test_size, random_state=42)\n",
    "\n",
    "    val_size_relative = val_size / (train_size + val_size)\n",
    "    X_train, X_val, y_train, y_val = train_test_split(X_tv, y_tv, test_size=val_size_relative, random_state=42)\n",
    "    return X_train, X_val, X_test, y_train, y_val, y_test"
   ],
   "metadata": {
    "collapsed": false
   }
  },
  {
   "cell_type": "code",
   "execution_count": 294,
   "outputs": [],
   "source": [
    "# Task 3\n",
    "X_train, X_val, X_test, y_train, y_val, y_test = split_data(df)\n",
    "\n",
    "# TODO task 4??"
   ],
   "metadata": {
    "collapsed": false
   }
  },
  {
   "cell_type": "code",
   "execution_count": 296,
   "outputs": [],
   "source": [
    "from sklearn.metrics import accuracy_score\n",
    "from sklearn.multiclass import OneVsOneClassifier\n",
    "from sklearn.linear_model import LogisticRegression\n",
    "\n",
    "\n",
    "ovo_clf = OneVsOneClassifier(\n",
    "    LogisticRegression(random_state=42, max_iter=1_000), n_jobs=-1\n",
    ").fit(X_train[PIXEL_FEATURE_LABELS], y_train.values.ravel())"
   ],
   "metadata": {
    "collapsed": false
   }
  },
  {
   "cell_type": "code",
   "execution_count": 297,
   "outputs": [
    {
     "name": "stdout",
     "output_type": "stream",
     "text": [
      "Accuracy score: 0.9998219690226099\n",
      "Accuracy score: 0.8696929238985314\n",
      "Accuracy score: 0.8643524699599466\n"
     ]
    },
    {
     "data": {
      "text/plain": "                                                    path Predictions\n13812  data/letters_small/D/QmV0dGVyS2FtcCBCb2xkSXRhb...           D\n16618  data/letters_small/E/Q29tc2F0LU5hdnktVW5pdC5vd...           E\n6653   data/letters_small/F/RXF1aXBvaXplU2Fucy1SZWd1b...           F\n17468      data/letters_small/B/QWJpbGVuZUZMRi5vdGY=.png           D\n7210   data/letters_small/F/RmVuaWNlRXhwZXJ0QlEtUmVnd...           F\n...                                                  ...         ...\n18542  data/letters_small/B/Q2dZZWFyYm9va0ZpbGxlci50d...           B\n5095           data/letters_small/A/Qm9uZWhlYWQudHRm.png           A\n163    data/letters_small/I/RWNsaXB0aWMgQlJLLnR0Zg==.png           I\n258    data/letters_small/I/Qml4bGVlQ25kLUhlYXZ5LnR0Z...           I\n4267   data/letters_small/A/QW1hc2lzIE1UIEJvbGQudHRm.png           A\n\n[3745 rows x 2 columns]",
      "text/html": "<div>\n<style scoped>\n    .dataframe tbody tr th:only-of-type {\n        vertical-align: middle;\n    }\n\n    .dataframe tbody tr th {\n        vertical-align: top;\n    }\n\n    .dataframe thead th {\n        text-align: right;\n    }\n</style>\n<table border=\"1\" class=\"dataframe\">\n  <thead>\n    <tr style=\"text-align: right;\">\n      <th></th>\n      <th>path</th>\n      <th>Predictions</th>\n    </tr>\n  </thead>\n  <tbody>\n    <tr>\n      <th>13812</th>\n      <td>data/letters_small/D/QmV0dGVyS2FtcCBCb2xkSXRhb...</td>\n      <td>D</td>\n    </tr>\n    <tr>\n      <th>16618</th>\n      <td>data/letters_small/E/Q29tc2F0LU5hdnktVW5pdC5vd...</td>\n      <td>E</td>\n    </tr>\n    <tr>\n      <th>6653</th>\n      <td>data/letters_small/F/RXF1aXBvaXplU2Fucy1SZWd1b...</td>\n      <td>F</td>\n    </tr>\n    <tr>\n      <th>17468</th>\n      <td>data/letters_small/B/QWJpbGVuZUZMRi5vdGY=.png</td>\n      <td>D</td>\n    </tr>\n    <tr>\n      <th>7210</th>\n      <td>data/letters_small/F/RmVuaWNlRXhwZXJ0QlEtUmVnd...</td>\n      <td>F</td>\n    </tr>\n    <tr>\n      <th>...</th>\n      <td>...</td>\n      <td>...</td>\n    </tr>\n    <tr>\n      <th>18542</th>\n      <td>data/letters_small/B/Q2dZZWFyYm9va0ZpbGxlci50d...</td>\n      <td>B</td>\n    </tr>\n    <tr>\n      <th>5095</th>\n      <td>data/letters_small/A/Qm9uZWhlYWQudHRm.png</td>\n      <td>A</td>\n    </tr>\n    <tr>\n      <th>163</th>\n      <td>data/letters_small/I/RWNsaXB0aWMgQlJLLnR0Zg==.png</td>\n      <td>I</td>\n    </tr>\n    <tr>\n      <th>258</th>\n      <td>data/letters_small/I/Qml4bGVlQ25kLUhlYXZ5LnR0Z...</td>\n      <td>I</td>\n    </tr>\n    <tr>\n      <th>4267</th>\n      <td>data/letters_small/A/QW1hc2lzIE1UIEJvbGQudHRm.png</td>\n      <td>A</td>\n    </tr>\n  </tbody>\n</table>\n<p>3745 rows × 2 columns</p>\n</div>"
     },
     "execution_count": 297,
     "metadata": {},
     "output_type": "execute_result"
    }
   ],
   "source": [
    "print(f\"Accuracy score: {accuracy_score(y_train, ovo_clf.predict(X_train[PIXEL_FEATURE_LABELS]))}\")\n",
    "print(f\"Accuracy score: {accuracy_score(y_val, ovo_clf.predict(X_val[PIXEL_FEATURE_LABELS]))}\")\n",
    "print(f\"Accuracy score: {accuracy_score(y_test, ovo_clf.predict(X_test[PIXEL_FEATURE_LABELS]))}\")\n",
    "\n",
    "table = ovo_clf.predict(X_val[PIXEL_FEATURE_LABELS])\n",
    "table_df = pd.DataFrame(table, index=X_val.index, columns=['Predictions'])\n",
    "pd.concat([X_val[FEATURE_LABELS], table_df], axis=1)"
   ],
   "metadata": {
    "collapsed": false
   }
  },
  {
   "cell_type": "code",
   "execution_count": 299,
   "outputs": [
    {
     "name": "stdout",
     "output_type": "stream",
     "text": [
      "Array size: (784,)\n",
      "Array size: (784,)\n",
      "Array size: (784,)\n",
      "Array size: (784,)\n",
      "Array size: (784,)\n",
      "Array size: (784,)\n",
      "Array size: (784,)\n",
      "Array size: (784,)\n",
      "Array size: (784,)\n",
      "Shapes: {(784,)}\n"
     ]
    },
    {
     "data": {
      "text/plain": "              path Predictions target\n0  data/test/a.png           A      a\n1  data/test/b.png           I      b\n2  data/test/c.png           E      c\n3  data/test/d.png           J      d\n4  data/test/f.png           F      f\n5  data/test/g.png           A      g\n6  data/test/h.png           H      h\n7  data/test/i.png           D      i\n8  data/test/j.png           H      j",
      "text/html": "<div>\n<style scoped>\n    .dataframe tbody tr th:only-of-type {\n        vertical-align: middle;\n    }\n\n    .dataframe tbody tr th {\n        vertical-align: top;\n    }\n\n    .dataframe thead th {\n        text-align: right;\n    }\n</style>\n<table border=\"1\" class=\"dataframe\">\n  <thead>\n    <tr style=\"text-align: right;\">\n      <th></th>\n      <th>path</th>\n      <th>Predictions</th>\n      <th>target</th>\n    </tr>\n  </thead>\n  <tbody>\n    <tr>\n      <th>0</th>\n      <td>data/test/a.png</td>\n      <td>A</td>\n      <td>a</td>\n    </tr>\n    <tr>\n      <th>1</th>\n      <td>data/test/b.png</td>\n      <td>I</td>\n      <td>b</td>\n    </tr>\n    <tr>\n      <th>2</th>\n      <td>data/test/c.png</td>\n      <td>E</td>\n      <td>c</td>\n    </tr>\n    <tr>\n      <th>3</th>\n      <td>data/test/d.png</td>\n      <td>J</td>\n      <td>d</td>\n    </tr>\n    <tr>\n      <th>4</th>\n      <td>data/test/f.png</td>\n      <td>F</td>\n      <td>f</td>\n    </tr>\n    <tr>\n      <th>5</th>\n      <td>data/test/g.png</td>\n      <td>A</td>\n      <td>g</td>\n    </tr>\n    <tr>\n      <th>6</th>\n      <td>data/test/h.png</td>\n      <td>H</td>\n      <td>h</td>\n    </tr>\n    <tr>\n      <th>7</th>\n      <td>data/test/i.png</td>\n      <td>D</td>\n      <td>i</td>\n    </tr>\n    <tr>\n      <th>8</th>\n      <td>data/test/j.png</td>\n      <td>H</td>\n      <td>j</td>\n    </tr>\n  </tbody>\n</table>\n</div>"
     },
     "execution_count": 299,
     "metadata": {},
     "output_type": "execute_result"
    }
   ],
   "source": [
    "def predict_table(x_test):\n",
    "    table = ovo_clf.predict(x_test[PIXEL_FEATURE_LABELS])\n",
    "    table_df = pd.DataFrame(table, index=x_test.index, columns=['Predictions'])\n",
    "    return pd.concat([x_test[FEATURE_LABELS], table_df, x_test[TARGET_LABELS]], axis=1)\n",
    "\n",
    "def load_test_object(path: str, target: str):\n",
    "    arr = load_object(path)\n",
    "    print(f\"Array size: {arr.shape}\")\n",
    "    return {'target': target, 'data': arr, 'path': path}\n",
    "\n",
    "\n",
    "def df_from_rows(rows):\n",
    "    frame = pd.DataFrame(rows).dropna()\n",
    "    shapes = {arr.shape for arr in frame['data'].values}\n",
    "    print(f\"Shapes: {shapes}\")\n",
    "    flattened_data = np.stack(frame['data'].values)\n",
    "    PIXEL_FEATURE_LABELS = [f'data_pixel_{i}' for i in range(flattened_data.shape[1])]\n",
    "    flattened_df = pd.DataFrame(flattened_data, columns=PIXEL_FEATURE_LABELS)\n",
    "    result = pd.concat([frame[TARGET_LABELS + FEATURE_LABELS], flattened_df], axis=1)\n",
    "    return result.dropna()\n",
    "\n",
    "paths = [\n",
    "    {'path': 'data/test/a.png', 'target': 'a'},\n",
    "    {'path': 'data/test/b.png', 'target': 'b'},\n",
    "    {'path': 'data/test/c.png', 'target': 'c'},\n",
    "    {'path': 'data/test/d.png', 'target': 'd'},\n",
    "    {'path': 'data/test/f.png', 'target': 'f'},\n",
    "    {'path': 'data/test/g.png', 'target': 'g'},\n",
    "    {'path': 'data/test/h.png', 'target': 'h'},\n",
    "    {'path': 'data/test/i.png', 'target': 'i'},\n",
    "    {'path': 'data/test/j.png', 'target': 'j'},\n",
    "]\n",
    "rows = [load_test_object(obj['path'], obj['target']) for obj in paths]\n",
    "test_frame = df_from_rows(rows)\n",
    "\n",
    "predict_table(test_frame)"
   ],
   "metadata": {
    "collapsed": false
   }
  },
  {
   "cell_type": "code",
   "execution_count": null,
   "outputs": [],
   "source": [],
   "metadata": {
    "collapsed": false
   }
  }
 ],
 "metadata": {
  "kernelspec": {
   "display_name": "Python 3",
   "language": "python",
   "name": "python3"
  },
  "language_info": {
   "codemirror_mode": {
    "name": "ipython",
    "version": 2
   },
   "file_extension": ".py",
   "mimetype": "text/x-python",
   "name": "python",
   "nbconvert_exporter": "python",
   "pygments_lexer": "ipython2",
   "version": "2.7.6"
  }
 },
 "nbformat": 4,
 "nbformat_minor": 0
}
